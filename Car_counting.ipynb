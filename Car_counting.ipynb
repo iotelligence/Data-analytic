{
 "cells": [
  {
   "cell_type": "code",
   "execution_count": 233,
   "metadata": {},
   "outputs": [],
   "source": [
    "import pandas as pd"
   ]
  },
  {
   "cell_type": "code",
   "execution_count": 234,
   "metadata": {
    "scrolled": true
   },
   "outputs": [
    {
     "data": {
      "text/html": [
       "<div>\n",
       "<style scoped>\n",
       "    .dataframe tbody tr th:only-of-type {\n",
       "        vertical-align: middle;\n",
       "    }\n",
       "\n",
       "    .dataframe tbody tr th {\n",
       "        vertical-align: top;\n",
       "    }\n",
       "\n",
       "    .dataframe thead th {\n",
       "        text-align: right;\n",
       "    }\n",
       "</style>\n",
       "<table border=\"1\" class=\"dataframe\">\n",
       "  <thead>\n",
       "    <tr style=\"text-align: right;\">\n",
       "      <th></th>\n",
       "      <th>Slot</th>\n",
       "      <th>Status</th>\n",
       "      <th>Date</th>\n",
       "      <th>Time</th>\n",
       "    </tr>\n",
       "  </thead>\n",
       "  <tbody>\n",
       "    <tr>\n",
       "      <th>0</th>\n",
       "      <td>F1_1</td>\n",
       "      <td>available</td>\n",
       "      <td>2020-01-01</td>\n",
       "      <td>09:00:00</td>\n",
       "    </tr>\n",
       "    <tr>\n",
       "      <th>1</th>\n",
       "      <td>F1_2</td>\n",
       "      <td>available</td>\n",
       "      <td>2020-01-01</td>\n",
       "      <td>09:00:00</td>\n",
       "    </tr>\n",
       "    <tr>\n",
       "      <th>2</th>\n",
       "      <td>F1_3</td>\n",
       "      <td>available</td>\n",
       "      <td>2020-01-01</td>\n",
       "      <td>09:00:00</td>\n",
       "    </tr>\n",
       "    <tr>\n",
       "      <th>3</th>\n",
       "      <td>F1_4</td>\n",
       "      <td>available</td>\n",
       "      <td>2020-01-01</td>\n",
       "      <td>09:00:00</td>\n",
       "    </tr>\n",
       "    <tr>\n",
       "      <th>4</th>\n",
       "      <td>F1_5</td>\n",
       "      <td>available</td>\n",
       "      <td>2020-01-01</td>\n",
       "      <td>09:00:00</td>\n",
       "    </tr>\n",
       "    <tr>\n",
       "      <th>...</th>\n",
       "      <td>...</td>\n",
       "      <td>...</td>\n",
       "      <td>...</td>\n",
       "      <td>...</td>\n",
       "    </tr>\n",
       "    <tr>\n",
       "      <th>1035</th>\n",
       "      <td>F4_6</td>\n",
       "      <td>available</td>\n",
       "      <td>2020-01-02</td>\n",
       "      <td>21:00:00</td>\n",
       "    </tr>\n",
       "    <tr>\n",
       "      <th>1036</th>\n",
       "      <td>F4_7</td>\n",
       "      <td>available</td>\n",
       "      <td>2020-01-02</td>\n",
       "      <td>21:00:00</td>\n",
       "    </tr>\n",
       "    <tr>\n",
       "      <th>1037</th>\n",
       "      <td>F4_8</td>\n",
       "      <td>available</td>\n",
       "      <td>2020-01-02</td>\n",
       "      <td>21:00:00</td>\n",
       "    </tr>\n",
       "    <tr>\n",
       "      <th>1038</th>\n",
       "      <td>F4_9</td>\n",
       "      <td>available</td>\n",
       "      <td>2020-01-02</td>\n",
       "      <td>21:00:00</td>\n",
       "    </tr>\n",
       "    <tr>\n",
       "      <th>1039</th>\n",
       "      <td>F4_10</td>\n",
       "      <td>available</td>\n",
       "      <td>2020-01-02</td>\n",
       "      <td>21:00:00</td>\n",
       "    </tr>\n",
       "  </tbody>\n",
       "</table>\n",
       "<p>1040 rows × 4 columns</p>\n",
       "</div>"
      ],
      "text/plain": [
       "       Slot     Status        Date      Time\n",
       "0      F1_1  available  2020-01-01  09:00:00\n",
       "1      F1_2  available  2020-01-01  09:00:00\n",
       "2      F1_3  available  2020-01-01  09:00:00\n",
       "3      F1_4  available  2020-01-01  09:00:00\n",
       "4      F1_5  available  2020-01-01  09:00:00\n",
       "...     ...        ...         ...       ...\n",
       "1035   F4_6  available  2020-01-02  21:00:00\n",
       "1036   F4_7  available  2020-01-02  21:00:00\n",
       "1037   F4_8  available  2020-01-02  21:00:00\n",
       "1038   F4_9  available  2020-01-02  21:00:00\n",
       "1039  F4_10  available  2020-01-02  21:00:00\n",
       "\n",
       "[1040 rows x 4 columns]"
      ]
     },
     "execution_count": 234,
     "metadata": {},
     "output_type": "execute_result"
    }
   ],
   "source": [
    "df = pd.read_csv('gen_data.csv')\n",
    "df"
   ]
  },
  {
   "cell_type": "code",
   "execution_count": 235,
   "metadata": {},
   "outputs": [],
   "source": [
    "slots = []\n",
    "for i in range(1,5):\n",
    "    for j in range(1,11):\n",
    "        slots.append(f\"F{i}_{j}\")\n",
    "slots_count = {slot:0 for slot in slots}"
   ]
  },
  {
   "cell_type": "code",
   "execution_count": null,
   "metadata": {
    "scrolled": true
   },
   "outputs": [],
   "source": []
  },
  {
   "cell_type": "code",
   "execution_count": 236,
   "metadata": {},
   "outputs": [],
   "source": [
    "# Condition filter\n",
    "filter_date = \"2020-01-02\"\n",
    "start_time = 9\n",
    "end_time = 21"
   ]
  },
  {
   "cell_type": "code",
   "execution_count": 237,
   "metadata": {},
   "outputs": [],
   "source": [
    "for i in range(1,5):\n",
    "    for j in range(1,11):\n",
    "        slot_df = df[(df['Slot']==\"F{}_{}\".format(i,j))]\n",
    "        count = 0\n",
    "        for k in range(len(slot_df)-1):\n",
    "            window_temp = slot_df[k:k+2]\n",
    "            if window_temp.iloc[0]['Status']==\"available\" and window_temp.iloc[1]['Status']==\"occupied\" :\n",
    "                str_temp = window_temp.iloc[0]['Time']\n",
    "                time_now = int(str_temp[0:2])\n",
    "                if start_time<=time_now and time_now<=end_time and window_temp.iloc[0]['Date']==filter_date :\n",
    "                    count = count +1\n",
    "        slots_count[\"F{}_{}\".format(i,j)] = count"
   ]
  },
  {
   "cell_type": "code",
   "execution_count": 238,
   "metadata": {},
   "outputs": [
    {
     "data": {
      "text/plain": [
       "{'F1_1': 4,\n",
       " 'F1_2': 3,\n",
       " 'F1_3': 2,\n",
       " 'F1_4': 3,\n",
       " 'F1_5': 4,\n",
       " 'F1_6': 3,\n",
       " 'F1_7': 3,\n",
       " 'F1_8': 3,\n",
       " 'F1_9': 2,\n",
       " 'F1_10': 3,\n",
       " 'F2_1': 3,\n",
       " 'F2_2': 2,\n",
       " 'F2_3': 3,\n",
       " 'F2_4': 3,\n",
       " 'F2_5': 2,\n",
       " 'F2_6': 2,\n",
       " 'F2_7': 3,\n",
       " 'F2_8': 3,\n",
       " 'F2_9': 3,\n",
       " 'F2_10': 2,\n",
       " 'F3_1': 3,\n",
       " 'F3_2': 3,\n",
       " 'F3_3': 3,\n",
       " 'F3_4': 3,\n",
       " 'F3_5': 2,\n",
       " 'F3_6': 3,\n",
       " 'F3_7': 3,\n",
       " 'F3_8': 3,\n",
       " 'F3_9': 3,\n",
       " 'F3_10': 3,\n",
       " 'F4_1': 2,\n",
       " 'F4_2': 4,\n",
       " 'F4_3': 1,\n",
       " 'F4_4': 4,\n",
       " 'F4_5': 3,\n",
       " 'F4_6': 1,\n",
       " 'F4_7': 3,\n",
       " 'F4_8': 3,\n",
       " 'F4_9': 2,\n",
       " 'F4_10': 3}"
      ]
     },
     "execution_count": 238,
     "metadata": {},
     "output_type": "execute_result"
    }
   ],
   "source": [
    "slots_count"
   ]
  },
  {
   "cell_type": "code",
   "execution_count": null,
   "metadata": {},
   "outputs": [],
   "source": []
  },
  {
   "cell_type": "code",
   "execution_count": null,
   "metadata": {},
   "outputs": [],
   "source": []
  }
 ],
 "metadata": {
  "kernelspec": {
   "display_name": "Python 3",
   "language": "python",
   "name": "python3"
  },
  "language_info": {
   "codemirror_mode": {
    "name": "ipython",
    "version": 3
   },
   "file_extension": ".py",
   "mimetype": "text/x-python",
   "name": "python",
   "nbconvert_exporter": "python",
   "pygments_lexer": "ipython3",
   "version": "3.7.7"
  }
 },
 "nbformat": 4,
 "nbformat_minor": 4
}
