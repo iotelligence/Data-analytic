{
 "cells": [
  {
   "cell_type": "code",
   "execution_count": 1,
   "metadata": {},
   "outputs": [],
   "source": [
    "import pandas as pd"
   ]
  },
  {
   "cell_type": "code",
   "execution_count": 179,
   "metadata": {
    "scrolled": true
   },
   "outputs": [
    {
     "data": {
      "text/html": [
       "<div>\n",
       "<style scoped>\n",
       "    .dataframe tbody tr th:only-of-type {\n",
       "        vertical-align: middle;\n",
       "    }\n",
       "\n",
       "    .dataframe tbody tr th {\n",
       "        vertical-align: top;\n",
       "    }\n",
       "\n",
       "    .dataframe thead th {\n",
       "        text-align: right;\n",
       "    }\n",
       "</style>\n",
       "<table border=\"1\" class=\"dataframe\">\n",
       "  <thead>\n",
       "    <tr style=\"text-align: right;\">\n",
       "      <th></th>\n",
       "      <th>Slot</th>\n",
       "      <th>Status</th>\n",
       "      <th>Timestamp</th>\n",
       "      <th>Date</th>\n",
       "      <th>Time</th>\n",
       "    </tr>\n",
       "  </thead>\n",
       "  <tbody>\n",
       "    <tr>\n",
       "      <th>0</th>\n",
       "      <td>F1_1</td>\n",
       "      <td>available</td>\n",
       "      <td>1/1/2020 9:00</td>\n",
       "      <td>2020-01-01</td>\n",
       "      <td>09:00:00</td>\n",
       "    </tr>\n",
       "    <tr>\n",
       "      <th>1</th>\n",
       "      <td>F1_2</td>\n",
       "      <td>available</td>\n",
       "      <td>1/1/2020 9:00</td>\n",
       "      <td>2020-01-01</td>\n",
       "      <td>09:00:00</td>\n",
       "    </tr>\n",
       "    <tr>\n",
       "      <th>2</th>\n",
       "      <td>F1_3</td>\n",
       "      <td>available</td>\n",
       "      <td>1/1/2020 9:00</td>\n",
       "      <td>2020-01-01</td>\n",
       "      <td>09:00:00</td>\n",
       "    </tr>\n",
       "    <tr>\n",
       "      <th>3</th>\n",
       "      <td>F1_4</td>\n",
       "      <td>available</td>\n",
       "      <td>1/1/2020 9:00</td>\n",
       "      <td>2020-01-01</td>\n",
       "      <td>09:00:00</td>\n",
       "    </tr>\n",
       "    <tr>\n",
       "      <th>4</th>\n",
       "      <td>F1_5</td>\n",
       "      <td>occupied</td>\n",
       "      <td>1/1/2020 9:00</td>\n",
       "      <td>2020-01-01</td>\n",
       "      <td>09:00:00</td>\n",
       "    </tr>\n",
       "    <tr>\n",
       "      <th>...</th>\n",
       "      <td>...</td>\n",
       "      <td>...</td>\n",
       "      <td>...</td>\n",
       "      <td>...</td>\n",
       "      <td>...</td>\n",
       "    </tr>\n",
       "    <tr>\n",
       "      <th>16115</th>\n",
       "      <td>F4_6</td>\n",
       "      <td>occupied</td>\n",
       "      <td>1/31/2020 21:00</td>\n",
       "      <td>2020-01-31</td>\n",
       "      <td>21:00:00</td>\n",
       "    </tr>\n",
       "    <tr>\n",
       "      <th>16116</th>\n",
       "      <td>F4_7</td>\n",
       "      <td>occupied</td>\n",
       "      <td>1/31/2020 21:00</td>\n",
       "      <td>2020-01-31</td>\n",
       "      <td>21:00:00</td>\n",
       "    </tr>\n",
       "    <tr>\n",
       "      <th>16117</th>\n",
       "      <td>F4_8</td>\n",
       "      <td>available</td>\n",
       "      <td>1/31/2020 21:00</td>\n",
       "      <td>2020-01-31</td>\n",
       "      <td>21:00:00</td>\n",
       "    </tr>\n",
       "    <tr>\n",
       "      <th>16118</th>\n",
       "      <td>F4_9</td>\n",
       "      <td>available</td>\n",
       "      <td>1/31/2020 21:00</td>\n",
       "      <td>2020-01-31</td>\n",
       "      <td>21:00:00</td>\n",
       "    </tr>\n",
       "    <tr>\n",
       "      <th>16119</th>\n",
       "      <td>F4_10</td>\n",
       "      <td>available</td>\n",
       "      <td>1/31/2020 21:00</td>\n",
       "      <td>2020-01-31</td>\n",
       "      <td>21:00:00</td>\n",
       "    </tr>\n",
       "  </tbody>\n",
       "</table>\n",
       "<p>16120 rows × 5 columns</p>\n",
       "</div>"
      ],
      "text/plain": [
       "        Slot     Status        Timestamp        Date      Time\n",
       "0       F1_1  available    1/1/2020 9:00  2020-01-01  09:00:00\n",
       "1       F1_2  available    1/1/2020 9:00  2020-01-01  09:00:00\n",
       "2       F1_3  available    1/1/2020 9:00  2020-01-01  09:00:00\n",
       "3       F1_4  available    1/1/2020 9:00  2020-01-01  09:00:00\n",
       "4       F1_5   occupied    1/1/2020 9:00  2020-01-01  09:00:00\n",
       "...      ...        ...              ...         ...       ...\n",
       "16115   F4_6   occupied  1/31/2020 21:00  2020-01-31  21:00:00\n",
       "16116   F4_7   occupied  1/31/2020 21:00  2020-01-31  21:00:00\n",
       "16117   F4_8  available  1/31/2020 21:00  2020-01-31  21:00:00\n",
       "16118   F4_9  available  1/31/2020 21:00  2020-01-31  21:00:00\n",
       "16119  F4_10  available  1/31/2020 21:00  2020-01-31  21:00:00\n",
       "\n",
       "[16120 rows x 5 columns]"
      ]
     },
     "execution_count": 179,
     "metadata": {},
     "output_type": "execute_result"
    }
   ],
   "source": [
    "df = pd.read_csv('new_data.csv')\n",
    "df"
   ]
  },
  {
   "cell_type": "code",
   "execution_count": 180,
   "metadata": {},
   "outputs": [
    {
     "data": {
      "text/plain": [
       "available    6123\n",
       "occupied     9997\n",
       "dtype: int64"
      ]
     },
     "execution_count": 180,
     "metadata": {},
     "output_type": "execute_result"
    }
   ],
   "source": [
    "#count the total number of status\n",
    "count  = pd.Series(df['Status'].str.split(',').map(Counter).sum())\n",
    "count"
   ]
  },
  {
   "cell_type": "code",
   "execution_count": 181,
   "metadata": {
    "scrolled": true
   },
   "outputs": [
    {
     "name": "stdout",
     "output_type": "stream",
     "text": [
      "Slot  Status     Time    \n",
      "F1_1  available  09:00:00    28\n",
      "                 10:00:00    10\n",
      "                 11:00:00     9\n",
      "                 12:00:00     9\n",
      "                 13:00:00    13\n",
      "                             ..\n",
      "F4_9  occupied   17:00:00    23\n",
      "                 18:00:00    22\n",
      "                 19:00:00    26\n",
      "                 20:00:00    22\n",
      "                 21:00:00     4\n",
      "Length: 1038, dtype: int64\n"
     ]
    }
   ],
   "source": [
    "dups_Slot_Status_Datetime = df.pivot_table(index=['Slot','Status','Time'], aggfunc='size')\n",
    "print (dups_Slot_Status_Datetime)"
   ]
  },
  {
   "cell_type": "code",
   "execution_count": 182,
   "metadata": {},
   "outputs": [],
   "source": [
    "slots = []\n",
    "for i in range(1,5):\n",
    "    for j in range(1,11):\n",
    "        slots.append(f\"F{i}_{j}\")\n",
    "slots_count = {slot:0 for slot in slots}"
   ]
  },
  {
   "cell_type": "code",
   "execution_count": 183,
   "metadata": {},
   "outputs": [],
   "source": [
    "# Condition filter: adjust by yourself.\n",
    "filter_date = \"2020-01-31\"\n",
    "start_time = 9\n",
    "end_time = 21"
   ]
  },
  {
   "cell_type": "code",
   "execution_count": 184,
   "metadata": {},
   "outputs": [],
   "source": [
    "for i in range(1,5):\n",
    "    for j in range(1,11):\n",
    "        slot_df = df[(df['Slot']==\"F{}_{}\".format(i,j))]\n",
    "        count = 0\n",
    "        for k in range(len(slot_df)-1):\n",
    "            window_temp = slot_df[k:k+2]\n",
    "            \n",
    "            if window_temp.iloc[0]['Status']==\"available\" and window_temp.iloc[1]['Status']==\"occupied\" :\n",
    "                str_temp = window_temp.iloc[0]['Time']\n",
    "                time_now = int(str_temp[0:2])\n",
    "                \n",
    "                if start_time<=time_now and time_now<=end_time and window_temp.iloc[0]['Date']==filter_date :\n",
    "                    count = count +1\n",
    "        slots_count[\"F{}_{}\".format(i,j)] = count"
   ]
  },
  {
   "cell_type": "code",
   "execution_count": 185,
   "metadata": {},
   "outputs": [
    {
     "data": {
      "text/plain": [
       "{'F1_1': 3,\n",
       " 'F1_2': 5,\n",
       " 'F1_3': 4,\n",
       " 'F1_4': 3,\n",
       " 'F1_5': 3,\n",
       " 'F1_6': 3,\n",
       " 'F1_7': 3,\n",
       " 'F1_8': 4,\n",
       " 'F1_9': 3,\n",
       " 'F1_10': 2,\n",
       " 'F2_1': 2,\n",
       " 'F2_2': 2,\n",
       " 'F2_3': 2,\n",
       " 'F2_4': 3,\n",
       " 'F2_5': 2,\n",
       " 'F2_6': 3,\n",
       " 'F2_7': 3,\n",
       " 'F2_8': 4,\n",
       " 'F2_9': 2,\n",
       " 'F2_10': 3,\n",
       " 'F3_1': 3,\n",
       " 'F3_2': 2,\n",
       " 'F3_3': 2,\n",
       " 'F3_4': 3,\n",
       " 'F3_5': 4,\n",
       " 'F3_6': 4,\n",
       " 'F3_7': 3,\n",
       " 'F3_8': 2,\n",
       " 'F3_9': 3,\n",
       " 'F3_10': 2,\n",
       " 'F4_1': 0,\n",
       " 'F4_2': 4,\n",
       " 'F4_3': 2,\n",
       " 'F4_4': 2,\n",
       " 'F4_5': 2,\n",
       " 'F4_6': 4,\n",
       " 'F4_7': 4,\n",
       " 'F4_8': 2,\n",
       " 'F4_9': 3,\n",
       " 'F4_10': 4}"
      ]
     },
     "execution_count": 185,
     "metadata": {},
     "output_type": "execute_result"
    }
   ],
   "source": [
    "slots_count"
   ]
  },
  {
   "cell_type": "code",
   "execution_count": null,
   "metadata": {},
   "outputs": [],
   "source": []
  }
 ],
 "metadata": {
  "kernelspec": {
   "display_name": "Python 3",
   "language": "python",
   "name": "python3"
  },
  "language_info": {
   "codemirror_mode": {
    "name": "ipython",
    "version": 3
   },
   "file_extension": ".py",
   "mimetype": "text/x-python",
   "name": "python",
   "nbconvert_exporter": "python",
   "pygments_lexer": "ipython3",
   "version": "3.7.6"
  }
 },
 "nbformat": 4,
 "nbformat_minor": 2
}
